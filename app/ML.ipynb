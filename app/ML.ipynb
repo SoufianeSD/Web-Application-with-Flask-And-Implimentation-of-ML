{
 "cells": [
  {
   "cell_type": "code",
   "execution_count": 23,
   "id": "3f38c804",
   "metadata": {},
   "outputs": [],
   "source": [
    "from sklearn.linear_model import LinearRegression\n",
    "import pandas as pd\n",
    "import numpy as np\n",
    "import plotly.express as px\n",
    "import plotly.graph_objects as go"
   ]
  },
  {
   "cell_type": "code",
   "execution_count": 24,
   "id": "fc54bb3b",
   "metadata": {},
   "outputs": [
    {
     "data": {
      "text/html": [
       "<div>\n",
       "<style scoped>\n",
       "    .dataframe tbody tr th:only-of-type {\n",
       "        vertical-align: middle;\n",
       "    }\n",
       "\n",
       "    .dataframe tbody tr th {\n",
       "        vertical-align: top;\n",
       "    }\n",
       "\n",
       "    .dataframe thead th {\n",
       "        text-align: right;\n",
       "    }\n",
       "</style>\n",
       "<table border=\"1\" class=\"dataframe\">\n",
       "  <thead>\n",
       "    <tr style=\"text-align: right;\">\n",
       "      <th></th>\n",
       "      <th>Age</th>\n",
       "      <th>Height</th>\n",
       "    </tr>\n",
       "  </thead>\n",
       "  <tbody>\n",
       "    <tr>\n",
       "      <th>0</th>\n",
       "      <td>14.767874</td>\n",
       "      <td>59.627484</td>\n",
       "    </tr>\n",
       "    <tr>\n",
       "      <th>1</th>\n",
       "      <td>3.107671</td>\n",
       "      <td>36.146453</td>\n",
       "    </tr>\n",
       "    <tr>\n",
       "      <th>2</th>\n",
       "      <td>7.266917</td>\n",
       "      <td>46.912878</td>\n",
       "    </tr>\n",
       "    <tr>\n",
       "      <th>3</th>\n",
       "      <td>1.815180</td>\n",
       "      <td>29.125660</td>\n",
       "    </tr>\n",
       "    <tr>\n",
       "      <th>4</th>\n",
       "      <td>16.753758</td>\n",
       "      <td>68.170414</td>\n",
       "    </tr>\n",
       "    <tr>\n",
       "      <th>...</th>\n",
       "      <td>...</td>\n",
       "      <td>...</td>\n",
       "    </tr>\n",
       "    <tr>\n",
       "      <th>95</th>\n",
       "      <td>7.323712</td>\n",
       "      <td>46.857505</td>\n",
       "    </tr>\n",
       "    <tr>\n",
       "      <th>96</th>\n",
       "      <td>5.591509</td>\n",
       "      <td>39.339990</td>\n",
       "    </tr>\n",
       "    <tr>\n",
       "      <th>97</th>\n",
       "      <td>2.625606</td>\n",
       "      <td>32.918925</td>\n",
       "    </tr>\n",
       "    <tr>\n",
       "      <th>98</th>\n",
       "      <td>5.519293</td>\n",
       "      <td>40.704154</td>\n",
       "    </tr>\n",
       "    <tr>\n",
       "      <th>99</th>\n",
       "      <td>13.117413</td>\n",
       "      <td>55.177407</td>\n",
       "    </tr>\n",
       "  </tbody>\n",
       "</table>\n",
       "<p>100 rows × 2 columns</p>\n",
       "</div>"
      ],
      "text/plain": [
       "          Age     Height\n",
       "0   14.767874  59.627484\n",
       "1    3.107671  36.146453\n",
       "2    7.266917  46.912878\n",
       "3    1.815180  29.125660\n",
       "4   16.753758  68.170414\n",
       "..        ...        ...\n",
       "95   7.323712  46.857505\n",
       "96   5.591509  39.339990\n",
       "97   2.625606  32.918925\n",
       "98   5.519293  40.704154\n",
       "99  13.117413  55.177407\n",
       "\n",
       "[100 rows x 2 columns]"
      ]
     },
     "execution_count": 24,
     "metadata": {},
     "output_type": "execute_result"
    }
   ],
   "source": [
    "data = pd.read_pickle('AgesAndHeights.pkl')\n",
    "data"
   ]
  },
  {
   "cell_type": "code",
   "execution_count": 25,
   "id": "fd2c22d0",
   "metadata": {},
   "outputs": [
    {
     "data": {
      "text/plain": [
       "<AxesSubplot:>"
      ]
     },
     "execution_count": 25,
     "metadata": {},
     "output_type": "execute_result"
    },
    {
     "data": {
      "image/png": "[encoded data removed]",
      "text/plain": [
       "<Figure size 432x288 with 1 Axes>"
      ]
     },
     "metadata": {
      "needs_background": "light"
     },
     "output_type": "display_data"
    }
   ],
   "source": [
    "ages = data['Age']\n",
    "heights = data['Height']\n",
    "ages.hist()"
   ]
  },
  {
   "cell_type": "code",
   "execution_count": 26,
   "id": "b0a7275d",
   "metadata": {},
   "outputs": [],
   "source": [
    "data = data[ages > 0]\n",
    "ages = data['Age']\n",
    "heights =  data['Height']"
   ]
  },
  {
   "cell_type": "code",
   "execution_count": 27,
   "id": "7bffa49e",
   "metadata": {},
   "outputs": [
    {
     "data": {
      "text/plain": [
       "array([[<AxesSubplot:title={'center':'Age'}>,\n",
       "        <AxesSubplot:title={'center':'Height'}>]], dtype=object)"
      ]
     },
     "execution_count": 27,
     "metadata": {},
     "output_type": "execute_result"
    },
    {
     "data": {
      "image/png": "[encoded data removed]",
      "text/plain": [
       "<Figure size 432x288 with 2 Axes>"
      ]
     },
     "metadata": {
      "needs_background": "light"
     },
     "output_type": "display_data"
    }
   ],
   "source": [
    "data.hist()"
   ]
  },
  {
   "cell_type": "code",
   "execution_count": 28,
   "id": "dca5968d",
   "metadata": {},
   "outputs": [
    {
     "data": {
      "text/plain": [
       "<AxesSubplot:xlabel='Age', ylabel='Height'>"
      ]
     },
     "execution_count": 28,
     "metadata": {},
     "output_type": "execute_result"
    },
    {
     "data": {
      "image/png": "[encoded data removed]",
      "text/plain": [
       "<Figure size 432x288 with 1 Axes>"
      ]
     },
     "metadata": {
      "needs_background": "light"
     },
     "output_type": "display_data"
    }
   ],
   "source": [
    "data.plot.scatter(x='Age',y='Height')"
   ]
  },
  {
   "cell_type": "code",
   "execution_count": 29,
   "id": "22ce6f6f",
   "metadata": {},
   "outputs": [
    {
     "data": {
      "text/plain": [
       "array([14.76787382,  3.10767135,  7.26691701,  1.81517968, 16.75375763,\n",
       "        5.35126307,  8.65571488,  4.20599293,  7.35669106,  1.66817819,\n",
       "        8.2969588 , 14.74948482, 15.28545214, 16.65534197,  0.85918789,\n",
       "        8.43332999, 11.92386163,  0.76828323, 11.36202254,  1.29597926,\n",
       "       10.31206094, 17.39335272, 10.31003056,  6.23764582, 15.55153122,\n",
       "        2.77346425, 15.59798962,  7.57789784,  2.04165705,  9.90665221,\n",
       "        2.87252515,  1.54231936,  5.46202264, 15.04362695,  5.99372597,\n",
       "        4.805291  ,  8.94992003,  5.02020985,  9.89555258,  5.20281507,\n",
       "        0.19568558,  0.89217393,  7.30979593, 10.8545723 , 15.69876495,\n",
       "        0.81216582, 15.40144747,  9.21599924,  8.98515379,  3.74369906,\n",
       "        0.75192511,  6.5963469 ,  9.75112683,  7.40094567, 17.32712575,\n",
       "       10.53406938, 15.16816596,  9.46971876, 13.54691548,  7.80132294,\n",
       "        2.51910344,  4.71666526, 10.0386595 , 11.77125476,  8.53738026,\n",
       "        2.58355771,  1.438003  , 10.40642157, 16.85933332, 12.22465149,\n",
       "        9.51476997, 10.08186587,  8.19621527, 10.49687113,  7.27368593,\n",
       "       11.12960811,  1.79959378,  7.78987166,  7.02932985,  5.8591807 ,\n",
       "       17.34312098,  6.57163034, 15.33887426, 17.88785196, 14.27429987,\n",
       "       14.12895726, 11.09012111, 13.74786759,  7.32371166,  5.59150936,\n",
       "        2.62560582,  5.51929292, 13.11741343])"
      ]
     },
     "execution_count": 29,
     "metadata": {},
     "output_type": "execute_result"
    }
   ],
   "source": [
    "ages_np = ages.to_numpy()\n",
    "heights_np = heights.to_numpy()\n",
    "ages_np"
   ]
  },
  {
   "cell_type": "code",
   "execution_count": 30,
   "id": "1b9e3f29",
   "metadata": {},
   "outputs": [
    {
     "data": {
      "text/plain": [
       "array([[14.76787382],\n",
       "       [ 3.10767135],\n",
       "       [ 7.26691701],\n",
       "       [ 1.81517968],\n",
       "       [16.75375763],\n",
       "       [ 5.35126307],\n",
       "       [ 8.65571488],\n",
       "       [ 4.20599293],\n",
       "       [ 7.35669106],\n",
       "       [ 1.66817819],\n",
       "       [ 8.2969588 ],\n",
       "       [14.74948482],\n",
       "       [15.28545214],\n",
       "       [16.65534197],\n",
       "       [ 0.85918789],\n",
       "       [ 8.43332999],\n",
       "       [11.92386163],\n",
       "       [ 0.76828323],\n",
       "       [11.36202254],\n",
       "       [ 1.29597926],\n",
       "       [10.31206094],\n",
       "       [17.39335272],\n",
       "       [10.31003056],\n",
       "       [ 6.23764582],\n",
       "       [15.55153122],\n",
       "       [ 2.77346425],\n",
       "       [15.59798962],\n",
       "       [ 7.57789784],\n",
       "       [ 2.04165705],\n",
       "       [ 9.90665221],\n",
       "       [ 2.87252515],\n",
       "       [ 1.54231936],\n",
       "       [ 5.46202264],\n",
       "       [15.04362695],\n",
       "       [ 5.99372597],\n",
       "       [ 4.805291  ],\n",
       "       [ 8.94992003],\n",
       "       [ 5.02020985],\n",
       "       [ 9.89555258],\n",
       "       [ 5.20281507],\n",
       "       [ 0.19568558],\n",
       "       [ 0.89217393],\n",
       "       [ 7.30979593],\n",
       "       [10.8545723 ],\n",
       "       [15.69876495],\n",
       "       [ 0.81216582],\n",
       "       [15.40144747],\n",
       "       [ 9.21599924],\n",
       "       [ 8.98515379],\n",
       "       [ 3.74369906],\n",
       "       [ 0.75192511],\n",
       "       [ 6.5963469 ],\n",
       "       [ 9.75112683],\n",
       "       [ 7.40094567],\n",
       "       [17.32712575],\n",
       "       [10.53406938],\n",
       "       [15.16816596],\n",
       "       [ 9.46971876],\n",
       "       [13.54691548],\n",
       "       [ 7.80132294],\n",
       "       [ 2.51910344],\n",
       "       [ 4.71666526],\n",
       "       [10.0386595 ],\n",
       "       [11.77125476],\n",
       "       [ 8.53738026],\n",
       "       [ 2.58355771],\n",
       "       [ 1.438003  ],\n",
       "       [10.40642157],\n",
       "       [16.85933332],\n",
       "       [12.22465149],\n",
       "       [ 9.51476997],\n",
       "       [10.08186587],\n",
       "       [ 8.19621527],\n",
       "       [10.49687113],\n",
       "       [ 7.27368593],\n",
       "       [11.12960811],\n",
       "       [ 1.79959378],\n",
       "       [ 7.78987166],\n",
       "       [ 7.02932985],\n",
       "       [ 5.8591807 ],\n",
       "       [17.34312098],\n",
       "       [ 6.57163034],\n",
       "       [15.33887426],\n",
       "       [17.88785196],\n",
       "       [14.27429987],\n",
       "       [14.12895726],\n",
       "       [11.09012111],\n",
       "       [13.74786759],\n",
       "       [ 7.32371166],\n",
       "       [ 5.59150936],\n",
       "       [ 2.62560582],\n",
       "       [ 5.51929292],\n",
       "       [13.11741343]])"
      ]
     },
     "execution_count": 30,
     "metadata": {},
     "output_type": "execute_result"
    }
   ],
   "source": [
    "ages_np_reshaped = ages_np.reshape(len(ages),1)\n",
    "ages_np_reshaped"
   ]
  },
  {
   "cell_type": "code",
   "execution_count": 31,
   "id": "3abb3eb3",
   "metadata": {},
   "outputs": [
    {
     "data": {
      "text/plain": [
       "array([2.0014169])"
      ]
     },
     "execution_count": 31,
     "metadata": {},
     "output_type": "execute_result"
    }
   ],
   "source": [
    "model = LinearRegression().fit(ages_np_reshaped, heights_np)\n",
    "model.coef_"
   ]
  },
  {
   "cell_type": "code",
   "execution_count": 32,
   "id": "c901cace",
   "metadata": {},
   "outputs": [
    {
     "data": {
      "text/plain": [
       "array([29.96185761, 31.96327451, 33.96469141, 35.96610831, 37.96752521,\n",
       "       39.96894211, 41.97035901, 43.97177591, 45.97319281, 47.9746097 ,\n",
       "       49.9760266 , 51.9774435 , 53.9788604 , 55.9802773 , 57.9816942 ,\n",
       "       59.9831111 , 61.984528  , 63.9859449 , 65.9873618 ])"
      ]
     },
     "execution_count": 32,
     "metadata": {},
     "output_type": "execute_result"
    }
   ],
   "source": [
    "x_new = np.array(list(range(19))).reshape(19,1)\n",
    "preds = model.predict(x_new)\n",
    "preds"
   ]
  },
  {
   "cell_type": "code",
   "execution_count": 33,
   "id": "70b8d432",
   "metadata": {},
   "outputs": [
    {
     "data": {
      "application/vnd.plotly.v1+json": {
       "config": {
        "plotlyServerURL": "https://plot.ly"
       },
       "data": [
        {
         "hovertemplate": "Age (years)=%{x}<br>Height (inches)=%{y}<extra></extra>",
         "legendgroup": "",
         "marker": {
          "color": "#636efa",
          "symbol": "circle"
         },
         "mode": "markers",
         "name": "",
         "orientation": "v",
         "showlegend": false,
         "type": "scatter",
         "x": [
          14.767873816330134,
          3.1076713517926806,
          7.266917014967214,
          1.8151796847000568,
          16.75375763212233,
          5.351263070263627,
          8.65571488131258,
          4.205992931818387,
          7.356691055541348,
          1.6681781890766423,
          8.296958804101257,
          14.749484818021726,
          15.28545214053092,
          16.655341966404624,
          0.8591878922479225,
          8.433329991852618,
          11.923861629396649,
          0.7682832255446641,
          11.362022540907663,
          1.2959792610865637,
          10.312060944157052,
          17.39335272011129,
          10.310030558229098,
          6.237645823819146,
          15.551531223270961,
          2.7734642513346452,
          15.597989616595418,
          7.57789784291413,
          2.0416570470654403,
          9.906652212523257,
          2.8725251472181657,
          1.542319357007062,
          5.462022639217886,
          15.043626946933678,
          5.99372596841139,
          4.805291001473066,
          8.949920033918836,
          5.0202098458683935,
          9.895552575441087,
          5.20281506751851,
          0.1956855835040544,
          0.8921739274168923,
          7.309795931984743,
          10.854572296082793,
          15.698764946507305,
          0.8121658181275702,
          15.40144746669177,
          9.215999236586455,
          8.985153794786697,
          3.7436990638149696,
          0.7519251058190364,
          6.59634689654973,
          9.751126830081093,
          7.400945669146715,
          17.327125745492236,
          10.534069375945291,
          15.16816596172089,
          9.46971876299886,
          13.546915483938882,
          7.8013229390191094,
          2.5191034388360367,
          4.71666526014279,
          10.03865950110509,
          11.771254757106686,
          8.537380257623587,
          2.5835577078360568,
          1.4380030008698512,
          10.406421565420079,
          16.859333323379175,
          12.224651491988748,
          9.514769969972079,
          10.08186587226211,
          8.196215267176308,
          10.49687113315066,
          7.2736859341792,
          11.129608109471462,
          1.7995937769927781,
          7.789871656108959,
          7.0293298525025225,
          5.859180701967556,
          17.343120980192833,
          6.571630342923743,
          15.338874260736427,
          17.887851957331563,
          14.274299866176817,
          14.128957263342956,
          11.090121111945153,
          13.747867593360567,
          7.323711658903526,
          5.591509359604698,
          2.6256058170727457,
          5.519292922264258,
          13.117413429777768
         ],
         "xaxis": "x",
         "y": [
          59.627484255440905,
          36.146452740444886,
          46.91287845835737,
          29.12565975179934,
          68.17041389899816,
          44.34636502739226,
          47.71361294583947,
          37.82994409229733,
          44.79306511887925,
          34.05901465899434,
          46.14234544968567,
          56.45678228393886,
          59.87003818698533,
          64.2363873620709,
          34.245996432433074,
          45.29759191160952,
          54.75189182636372,
          32.93518570708343,
          51.9983700049869,
          31.523500326472764,
          55.704812467426514,
          63.861097210924726,
          52.91990510235963,
          37.36102444109163,
          60.23327194672566,
          35.01026126326172,
          59.127019311027254,
          48.218468847820674,
          32.562322147563314,
          47.75274969209667,
          36.24179871798677,
          33.781758520528335,
          38.28770979691895,
          59.102624944746864,
          43.28700253705651,
          39.665424285266255,
          44.95296110578905,
          37.43903004904909,
          52.319715368214375,
          38.09928940824737,
          29.508467682114567,
          32.1770229138873,
          42.91083707239845,
          52.339572050151524,
          62.64153738860418,
          36.34620991034383,
          62.68458016772984,
          50.12874247797628,
          48.01159918663291,
          41.30798526124458,
          31.8273468238612,
          43.079024419452665,
          43.03917945313444,
          44.135953978002824,
          65.38850138444467,
          52.558743974148356,
          57.54336087298846,
          50.73552241825695,
          56.35839211196362,
          41.57647919848205,
          32.302511166666385,
          42.332020646759304,
          49.22075916318565,
          53.45369077233547,
          47.80362460581466,
          34.931432749251016,
          29.007695669220283,
          52.336935024004895,
          63.38905062513939,
          52.92067292795279,
          51.44539695386509,
          48.99409356103171,
          47.33274976203938,
          54.52644907063409,
          46.21415636501729,
          50.94870844704053,
          34.24840687518276,
          47.99492934931853,
          41.41827568889294,
          43.41211008991764,
          64.30784501861878,
          43.87201083591761,
          60.989252739448304,
          64.38621239810695,
          56.3644582759043,
          57.976620433447984,
          53.81673812977304,
          58.93595009695788,
          46.85750545022212,
          39.339989929943755,
          32.918924839782086,
          40.7041542813865,
          55.17740742233581
         ],
         "yaxis": "y"
        },
        {
         "mode": "lines",
         "name": "Model",
         "type": "scatter",
         "x": [
          0,
          1,
          2,
          3,
          4,
          5,
          6,
          7,
          8,
          9,
          10,
          11,
          12,
          13,
          14,
          15,
          16,
          17,
          18
         ],
         "y": [
          29.961857614615845,
          31.963274513526475,
          33.964691412437105,
          35.96610831134773,
          37.967525210258366,
          39.96894210916899,
          41.970359008079626,
          43.97177590699025,
          45.97319280590088,
          47.97460970481151,
          49.97602660372215,
          51.977443502632774,
          53.9788604015434,
          55.980277300454034,
          57.98169419936466,
          59.98311109827529,
          61.98452799718592,
          63.98594489609655,
          65.98736179500719
         ]
        }
       ],
       "layout": {
        "legend": {
         "tracegroupgap": 0
        },
        "template": {
         "data": {
          "bar": [
           {
            "error_x": {
             "color": "#2a3f5f"
            },
            "error_y": {
             "color": "#2a3f5f"
            },
            "marker": {
             "line": {
              "color": "#E5ECF6",
              "width": 0.5
             },
             "pattern": {
              "fillmode": "overlay",
              "size": 10,
              "solidity": 0.2
             }
            },
            "type": "bar"
           }
          ],
          "barpolar": [
           {
            "marker": {
             "line": {
              "color": "#E5ECF6",
              "width": 0.5
             },
             "pattern": {
              "fillmode": "overlay",
              "size": 10,
              "solidity": 0.2
             }
            },
            "type": "barpolar"
           }
          ],
          "carpet": [
           {
            "aaxis": {
             "endlinecolor": "#2a3f5f",
             "gridcolor": "white",
             "linecolor": "white",
             "minorgridcolor": "white",
             "startlinecolor": "#2a3f5f"
            },
            "baxis": {
             "endlinecolor": "#2a3f5f",
             "gridcolor": "white",
             "linecolor": "white",
             "minorgridcolor": "white",
             "startlinecolor": "#2a3f5f"
            },
            "type": "carpet"
           }
          ],
          "choropleth": [
           {
            "colorbar": {
             "outlinewidth": 0,
             "ticks": ""
            },
            "type": "choropleth"
           }
          ],
          "contour": [
           {
            "colorbar": {
             "outlinewidth": 0,
             "ticks": ""
            },
            "colorscale": [
             [
              0,
              "#0d0887"
             ],
             [
              0.1111111111111111,
              "#46039f"
             ],
             [
              0.2222222222222222,
              "#7201a8"
             ],
             [
              0.3333333333333333,
              "#9c179e"
             ],
             [
              0.4444444444444444,
              "#bd3786"
             ],
             [
              0.5555555555555556,
              "#d8576b"
             ],
             [
              0.6666666666666666,
              "#ed7953"
             ],
             [
              0.7777777777777778,
              "#fb9f3a"
             ],
             [
              0.8888888888888888,
              "#fdca26"
             ],
             [
              1,
              "#f0f921"
             ]
            ],
            "type": "contour"
           }
          ],
          "contourcarpet": [
           {
            "colorbar": {
             "outlinewidth": 0,
             "ticks": ""
            },
            "type": "contourcarpet"
           }
          ],
          "heatmap": [
           {
            "colorbar": {
             "outlinewidth": 0,
             "ticks": ""
            },
            "colorscale": [
             [
              0,
              "#0d0887"
             ],
             [
              0.1111111111111111,
              "#46039f"
             ],
             [
              0.2222222222222222,
              "#7201a8"
             ],
             [
              0.3333333333333333,
              "#9c179e"
             ],
             [
              0.4444444444444444,
              "#bd3786"
             ],
             [
              0.5555555555555556,
              "#d8576b"
             ],
             [
              0.6666666666666666,
              "#ed7953"
             ],
             [
              0.7777777777777778,
              "#fb9f3a"
             ],
             [
              0.8888888888888888,
              "#fdca26"
             ],
             [
              1,
              "#f0f921"
             ]
            ],
            "type": "heatmap"
           }
          ],
          "heatmapgl": [
           {
            "colorbar": {
             "outlinewidth": 0,
             "ticks": ""
            },
            "colorscale": [
             [
              0,
              "#0d0887"
             ],
             [
              0.1111111111111111,
              "#46039f"
             ],
             [
              0.2222222222222222,
              "#7201a8"
             ],
             [
              0.3333333333333333,
              "#9c179e"
             ],
             [
              0.4444444444444444,
              "#bd3786"
             ],
             [
              0.5555555555555556,
              "#d8576b"
             ],
             [
              0.6666666666666666,
              "#ed7953"
             ],
             [
              0.7777777777777778,
              "#fb9f3a"
             ],
             [
              0.8888888888888888,
              "#fdca26"
             ],
             [
              1,
              "#f0f921"
             ]
            ],
            "type": "heatmapgl"
           }
          ],
          "histogram": [
           {
            "marker": {
             "pattern": {
              "fillmode": "overlay",
              "size": 10,
              "solidity": 0.2
             }
            },
            "type": "histogram"
           }
          ],
          "histogram2d": [
           {
            "colorbar": {
             "outlinewidth": 0,
             "ticks": ""
            },
            "colorscale": [
             [
              0,
              "#0d0887"
             ],
             [
              0.1111111111111111,
              "#46039f"
             ],
             [
              0.2222222222222222,
              "#7201a8"
             ],
             [
              0.3333333333333333,
              "#9c179e"
             ],
             [
              0.4444444444444444,
              "#bd3786"
             ],
             [
              0.5555555555555556,
              "#d8576b"
             ],
             [
              0.6666666666666666,
              "#ed7953"
             ],
             [
              0.7777777777777778,
              "#fb9f3a"
             ],
             [
              0.8888888888888888,
              "#fdca26"
             ],
             [
              1,
              "#f0f921"
             ]
            ],
            "type": "histogram2d"
           }
          ],
          "histogram2dcontour": [
           {
            "colorbar": {
             "outlinewidth": 0,
             "ticks": ""
            },
            "colorscale": [
             [
              0,
              "#0d0887"
             ],
             [
              0.1111111111111111,
              "#46039f"
             ],
             [
              0.2222222222222222,
              "#7201a8"
             ],
             [
              0.3333333333333333,
              "#9c179e"
             ],
             [
              0.4444444444444444,
              "#bd3786"
             ],
             [
              0.5555555555555556,
              "#d8576b"
             ],
             [
              0.6666666666666666,
              "#ed7953"
             ],
             [
              0.7777777777777778,
              "#fb9f3a"
             ],
             [
              0.8888888888888888,
              "#fdca26"
             ],
             [
              1,
              "#f0f921"
             ]
            ],
            "type": "histogram2dcontour"
           }
          ],
          "mesh3d": [
           {
            "colorbar": {
             "outlinewidth": 0,
             "ticks": ""
            },
            "type": "mesh3d"
           }
          ],
          "parcoords": [
           {
            "line": {
             "colorbar": {
              "outlinewidth": 0,
              "ticks": ""
             }
            },
            "type": "parcoords"
           }
          ],
          "pie": [
           {
            "automargin": true,
            "type": "pie"
           }
          ],
          "scatter": [
           {
            "marker": {
             "colorbar": {
              "outlinewidth": 0,
              "ticks": ""
             }
            },
            "type": "scatter"
           }
          ],
          "scatter3d": [
           {
            "line": {
             "colorbar": {
              "outlinewidth": 0,
              "ticks": ""
             }
            },
            "marker": {
             "colorbar": {
              "outlinewidth": 0,
              "ticks": ""
             }
            },
            "type": "scatter3d"
           }
          ],
          "scattercarpet": [
           {
            "marker": {
             "colorbar": {
              "outlinewidth": 0,
              "ticks": ""
             }
            },
            "type": "scattercarpet"
           }
          ],
          "scattergeo": [
           {
            "marker": {
             "colorbar": {
              "outlinewidth": 0,
              "ticks": ""
             }
            },
            "type": "scattergeo"
           }
          ],
          "scattergl": [
           {
            "marker": {
             "colorbar": {
              "outlinewidth": 0,
              "ticks": ""
             }
            },
            "type": "scattergl"
           }
          ],
          "scattermapbox": [
           {
            "marker": {
             "colorbar": {
              "outlinewidth": 0,
              "ticks": ""
             }
            },
            "type": "scattermapbox"
           }
          ],
          "scatterpolar": [
           {
            "marker": {
             "colorbar": {
              "outlinewidth": 0,
              "ticks": ""
             }
            },
            "type": "scatterpolar"
           }
          ],
          "scatterpolargl": [
           {
            "marker": {
             "colorbar": {
              "outlinewidth": 0,
              "ticks": ""
             }
            },
            "type": "scatterpolargl"
           }
          ],
          "scatterternary": [
           {
            "marker": {
             "colorbar": {
              "outlinewidth": 0,
              "ticks": ""
             }
            },
            "type": "scatterternary"
           }
          ],
          "surface": [
           {
            "colorbar": {
             "outlinewidth": 0,
             "ticks": ""
            },
            "colorscale": [
             [
              0,
              "#0d0887"
             ],
             [
              0.1111111111111111,
              "#46039f"
             ],
             [
              0.2222222222222222,
              "#7201a8"
             ],
             [
              0.3333333333333333,
              "#9c179e"
             ],
             [
              0.4444444444444444,
              "#bd3786"
             ],
             [
              0.5555555555555556,
              "#d8576b"
             ],
             [
              0.6666666666666666,
              "#ed7953"
             ],
             [
              0.7777777777777778,
              "#fb9f3a"
             ],
             [
              0.8888888888888888,
              "#fdca26"
             ],
             [
              1,
              "#f0f921"
             ]
            ],
            "type": "surface"
           }
          ],
          "table": [
           {
            "cells": {
             "fill": {
              "color": "#EBF0F8"
             },
             "line": {
              "color": "white"
             }
            },
            "header": {
             "fill": {
              "color": "#C8D4E3"
             },
             "line": {
              "color": "white"
             }
            },
            "type": "table"
           }
          ]
         },
         "layout": {
          "annotationdefaults": {
           "arrowcolor": "#2a3f5f",
           "arrowhead": 0,
           "arrowwidth": 1
          },
          "autotypenumbers": "strict",
          "coloraxis": {
           "colorbar": {
            "outlinewidth": 0,
            "ticks": ""
           }
          },
          "colorscale": {
           "diverging": [
            [
             0,
             "#8e0152"
            ],
            [
             0.1,
             "#c51b7d"
            ],
            [
             0.2,
             "#de77ae"
            ],
            [
             0.3,
             "#f1b6da"
            ],
            [
             0.4,
             "#fde0ef"
            ],
            [
             0.5,
             "#f7f7f7"
            ],
            [
             0.6,
             "#e6f5d0"
            ],
            [
             0.7,
             "#b8e186"
            ],
            [
             0.8,
             "#7fbc41"
            ],
            [
             0.9,
             "#4d9221"
            ],
            [
             1,
             "#276419"
            ]
           ],
           "sequential": [
            [
             0,
             "#0d0887"
            ],
            [
             0.1111111111111111,
             "#46039f"
            ],
            [
             0.2222222222222222,
             "#7201a8"
            ],
            [
             0.3333333333333333,
             "#9c179e"
            ],
            [
             0.4444444444444444,
             "#bd3786"
            ],
            [
             0.5555555555555556,
             "#d8576b"
            ],
            [
             0.6666666666666666,
             "#ed7953"
            ],
            [
             0.7777777777777778,
             "#fb9f3a"
            ],
            [
             0.8888888888888888,
             "#fdca26"
            ],
            [
             1,
             "#f0f921"
            ]
           ],
           "sequentialminus": [
            [
             0,
             "#0d0887"
            ],
            [
             0.1111111111111111,
             "#46039f"
            ],
            [
             0.2222222222222222,
             "#7201a8"
            ],
            [
             0.3333333333333333,
             "#9c179e"
            ],
            [
             0.4444444444444444,
             "#bd3786"
            ],
            [
             0.5555555555555556,
             "#d8576b"
            ],
            [
             0.6666666666666666,
             "#ed7953"
            ],
            [
             0.7777777777777778,
             "#fb9f3a"
            ],
            [
             0.8888888888888888,
             "#fdca26"
            ],
            [
             1,
             "#f0f921"
            ]
           ]
          },
          "colorway": [
           "#636efa",
           "#EF553B",
           "#00cc96",
           "#ab63fa",
           "#FFA15A",
           "#19d3f3",
           "#FF6692",
           "#B6E880",
           "#FF97FF",
           "#FECB52"
          ],
          "font": {
           "color": "#2a3f5f"
          },
          "geo": {
           "bgcolor": "white",
           "lakecolor": "white",
           "landcolor": "#E5ECF6",
           "showlakes": true,
           "showland": true,
           "subunitcolor": "white"
          },
          "hoverlabel": {
           "align": "left"
          },
          "hovermode": "closest",
          "mapbox": {
           "style": "light"
          },
          "paper_bgcolor": "white",
          "plot_bgcolor": "#E5ECF6",
          "polar": {
           "angularaxis": {
            "gridcolor": "white",
            "linecolor": "white",
            "ticks": ""
           },
           "bgcolor": "#E5ECF6",
           "radialaxis": {
            "gridcolor": "white",
            "linecolor": "white",
            "ticks": ""
           }
          },
          "scene": {
           "xaxis": {
            "backgroundcolor": "#E5ECF6",
            "gridcolor": "white",
            "gridwidth": 2,
            "linecolor": "white",
            "showbackground": true,
            "ticks": "",
            "zerolinecolor": "white"
           },
           "yaxis": {
            "backgroundcolor": "#E5ECF6",
            "gridcolor": "white",
            "gridwidth": 2,
            "linecolor": "white",
            "showbackground": true,
            "ticks": "",
            "zerolinecolor": "white"
           },
           "zaxis": {
            "backgroundcolor": "#E5ECF6",
            "gridcolor": "white",
            "gridwidth": 2,
            "linecolor": "white",
            "showbackground": true,
            "ticks": "",
            "zerolinecolor": "white"
           }
          },
          "shapedefaults": {
           "line": {
            "color": "#2a3f5f"
           }
          },
          "ternary": {
           "aaxis": {
            "gridcolor": "white",
            "linecolor": "white",
            "ticks": ""
           },
           "baxis": {
            "gridcolor": "white",
            "linecolor": "white",
            "ticks": ""
           },
           "bgcolor": "#E5ECF6",
           "caxis": {
            "gridcolor": "white",
            "linecolor": "white",
            "ticks": ""
           }
          },
          "title": {
           "x": 0.05
          },
          "xaxis": {
           "automargin": true,
           "gridcolor": "white",
           "linecolor": "white",
           "ticks": "",
           "title": {
            "standoff": 15
           },
           "zerolinecolor": "white",
           "zerolinewidth": 2
          },
          "yaxis": {
           "automargin": true,
           "gridcolor": "white",
           "linecolor": "white",
           "ticks": "",
           "title": {
            "standoff": 15
           },
           "zerolinecolor": "white",
           "zerolinewidth": 2
          }
         }
        },
        "title": {
         "text": "Height vs Age of People"
        },
        "xaxis": {
         "anchor": "y",
         "domain": [
          0,
          1
         ],
         "title": {
          "text": "Age (years)"
         }
        },
        "yaxis": {
         "anchor": "x",
         "domain": [
          0,
          1
         ],
         "title": {
          "text": "Height (inches)"
         }
        }
       }
      }
     },
     "metadata": {},
     "output_type": "display_data"
    }
   ],
   "source": [
    "fig = px.scatter(x=ages,y=heights,title=\"Height vs Age of People\",labels={'x':'Age (years)','y':'Height (inches)'})\n",
    "\n",
    "fig.add_trace(go.Scatter(x=x_new.reshape(19), y=preds, mode='lines', name='Model'))\n",
    "fig.write_image('base_pic.svg', width = 800)\n",
    "fig.show()"
   ]
  },
  {
   "cell_type": "code",
   "execution_count": 34,
   "id": "fce5266f",
   "metadata": {},
   "outputs": [
    {
     "data": {
      "text/plain": [
       "['model.joblib']"
      ]
     },
     "execution_count": 34,
     "metadata": {},
     "output_type": "execute_result"
    }
   ],
   "source": [
    "from joblib import dump, load\n",
    "\n",
    "dump(model, 'model.joblib')"
   ]
  },
  {
   "cell_type": "code",
   "execution_count": 35,
   "id": "ec405225",
   "metadata": {},
   "outputs": [
    {
     "data": {
      "text/plain": [
       "array([31.96327451])"
      ]
     },
     "execution_count": 35,
     "metadata": {},
     "output_type": "execute_result"
    }
   ],
   "source": [
    "model_in = load('model.joblib')\n",
    "model_in.predict(np.array([[1]]))"
   ]
  },
  {
   "cell_type": "code",
   "execution_count": 36,
   "id": "61e1a4c4",
   "metadata": {},
   "outputs": [
    {
     "data": {
      "application/vnd.plotly.v1+json": {
       "config": {
        "plotlyServerURL": "https://plot.ly"
       },
       "data": [
        {
         "hovertemplate": "Age (years)=%{x}<br>Height (inches)=%{y}<extra></extra>",
         "legendgroup": "",
         "marker": {
          "color": "#636efa",
          "symbol": "circle"
         },
         "mode": "markers",
         "name": "",
         "orientation": "v",
         "showlegend": false,
         "type": "scatter",
         "x": [
          14.767873816330134,
          3.1076713517926806,
          7.266917014967214,
          1.8151796847000568,
          16.75375763212233,
          5.351263070263627,
          8.65571488131258,
          4.205992931818387,
          7.356691055541348,
          1.6681781890766423,
          8.296958804101257,
          14.749484818021726,
          15.28545214053092,
          16.655341966404624,
          0.8591878922479225,
          8.433329991852618,
          11.923861629396649,
          0.7682832255446641,
          11.362022540907663,
          1.2959792610865637,
          10.312060944157052,
          17.39335272011129,
          10.310030558229098,
          6.237645823819146,
          15.551531223270961,
          2.7734642513346452,
          15.597989616595418,
          7.57789784291413,
          2.0416570470654403,
          9.906652212523257,
          2.8725251472181657,
          1.542319357007062,
          5.462022639217886,
          15.043626946933678,
          5.99372596841139,
          4.805291001473066,
          8.949920033918836,
          5.0202098458683935,
          9.895552575441087,
          5.20281506751851,
          0.1956855835040544,
          0.8921739274168923,
          7.309795931984743,
          10.854572296082793,
          15.698764946507305,
          0.8121658181275702,
          15.40144746669177,
          9.215999236586455,
          8.985153794786697,
          3.7436990638149696,
          0.7519251058190364,
          6.59634689654973,
          9.751126830081093,
          7.400945669146715,
          17.327125745492236,
          10.534069375945291,
          15.16816596172089,
          9.46971876299886,
          13.546915483938882,
          7.8013229390191094,
          2.5191034388360367,
          4.71666526014279,
          10.03865950110509,
          11.771254757106686,
          8.537380257623587,
          2.5835577078360568,
          1.4380030008698512,
          10.406421565420079,
          16.859333323379175,
          12.224651491988748,
          9.514769969972079,
          10.08186587226211,
          8.196215267176308,
          10.49687113315066,
          7.2736859341792,
          11.129608109471462,
          1.7995937769927781,
          7.789871656108959,
          7.0293298525025225,
          5.859180701967556,
          17.343120980192833,
          6.571630342923743,
          15.338874260736427,
          17.887851957331563,
          14.274299866176817,
          14.128957263342956,
          11.090121111945153,
          13.747867593360567,
          7.323711658903526,
          5.591509359604698,
          2.6256058170727457,
          5.519292922264258,
          13.117413429777768
         ],
         "xaxis": "x",
         "y": [
          59.627484255440905,
          36.146452740444886,
          46.91287845835737,
          29.12565975179934,
          68.17041389899816,
          44.34636502739226,
          47.71361294583947,
          37.82994409229733,
          44.79306511887925,
          34.05901465899434,
          46.14234544968567,
          56.45678228393886,
          59.87003818698533,
          64.2363873620709,
          34.245996432433074,
          45.29759191160952,
          54.75189182636372,
          32.93518570708343,
          51.9983700049869,
          31.523500326472764,
          55.704812467426514,
          63.861097210924726,
          52.91990510235963,
          37.36102444109163,
          60.23327194672566,
          35.01026126326172,
          59.127019311027254,
          48.218468847820674,
          32.562322147563314,
          47.75274969209667,
          36.24179871798677,
          33.781758520528335,
          38.28770979691895,
          59.102624944746864,
          43.28700253705651,
          39.665424285266255,
          44.95296110578905,
          37.43903004904909,
          52.319715368214375,
          38.09928940824737,
          29.508467682114567,
          32.1770229138873,
          42.91083707239845,
          52.339572050151524,
          62.64153738860418,
          36.34620991034383,
          62.68458016772984,
          50.12874247797628,
          48.01159918663291,
          41.30798526124458,
          31.8273468238612,
          43.079024419452665,
          43.03917945313444,
          44.135953978002824,
          65.38850138444467,
          52.558743974148356,
          57.54336087298846,
          50.73552241825695,
          56.35839211196362,
          41.57647919848205,
          32.302511166666385,
          42.332020646759304,
          49.22075916318565,
          53.45369077233547,
          47.80362460581466,
          34.931432749251016,
          29.007695669220283,
          52.336935024004895,
          63.38905062513939,
          52.92067292795279,
          51.44539695386509,
          48.99409356103171,
          47.33274976203938,
          54.52644907063409,
          46.21415636501729,
          50.94870844704053,
          34.24840687518276,
          47.99492934931853,
          41.41827568889294,
          43.41211008991764,
          64.30784501861878,
          43.87201083591761,
          60.989252739448304,
          64.38621239810695,
          56.3644582759043,
          57.976620433447984,
          53.81673812977304,
          58.93595009695788,
          46.85750545022212,
          39.339989929943755,
          32.918924839782086,
          40.7041542813865,
          55.17740742233581
         ],
         "yaxis": "y"
        },
        {
         "mode": "lines",
         "name": "Model",
         "type": "scatter",
         "x": [
          0,
          1,
          2,
          3,
          4,
          5,
          6,
          7,
          8,
          9,
          10,
          11,
          12,
          13,
          14,
          15,
          16,
          17,
          18
         ],
         "y": [
          29.961857614615845,
          31.963274513526475,
          33.964691412437105,
          35.96610831134773,
          37.967525210258366,
          39.96894210916899,
          41.970359008079626,
          43.97177590699025,
          45.97319280590088,
          47.97460970481151,
          49.97602660372215,
          51.977443502632774,
          53.9788604015434,
          55.980277300454034,
          57.98169419936466,
          59.98311109827529,
          61.98452799718592,
          63.98594489609655,
          65.98736179500719
         ]
        },
        {
         "marker": {
          "color": "purple",
          "line": {
           "color": "purple",
           "width": 2
          },
          "size": 20
         },
         "mode": "markers",
         "name": "New Outputs",
         "type": "scatter",
         "x": [
          1,
          2,
          17
         ],
         "y": [
          31.963274513526475,
          33.964691412437105,
          63.98594489609655
         ]
        }
       ],
       "layout": {
        "legend": {
         "tracegroupgap": 0
        },
        "template": {
         "data": {
          "bar": [
           {
            "error_x": {
             "color": "#2a3f5f"
            },
            "error_y": {
             "color": "#2a3f5f"
            },
            "marker": {
             "line": {
              "color": "#E5ECF6",
              "width": 0.5
             },
             "pattern": {
              "fillmode": "overlay",
              "size": 10,
              "solidity": 0.2
             }
            },
            "type": "bar"
           }
          ],
          "barpolar": [
           {
            "marker": {
             "line": {
              "color": "#E5ECF6",
              "width": 0.5
             },
             "pattern": {
              "fillmode": "overlay",
              "size": 10,
              "solidity": 0.2
             }
            },
            "type": "barpolar"
           }
          ],
          "carpet": [
           {
            "aaxis": {
             "endlinecolor": "#2a3f5f",
             "gridcolor": "white",
             "linecolor": "white",
             "minorgridcolor": "white",
             "startlinecolor": "#2a3f5f"
            },
            "baxis": {
             "endlinecolor": "#2a3f5f",
             "gridcolor": "white",
             "linecolor": "white",
             "minorgridcolor": "white",
             "startlinecolor": "#2a3f5f"
            },
            "type": "carpet"
           }
          ],
          "choropleth": [
           {
            "colorbar": {
             "outlinewidth": 0,
             "ticks": ""
            },
            "type": "choropleth"
           }
          ],
          "contour": [
           {
            "colorbar": {
             "outlinewidth": 0,
             "ticks": ""
            },
            "colorscale": [
             [
              0,
              "#0d0887"
             ],
             [
              0.1111111111111111,
              "#46039f"
             ],
             [
              0.2222222222222222,
              "#7201a8"
             ],
             [
              0.3333333333333333,
              "#9c179e"
             ],
             [
              0.4444444444444444,
              "#bd3786"
             ],
             [
              0.5555555555555556,
              "#d8576b"
             ],
             [
              0.6666666666666666,
              "#ed7953"
             ],
             [
              0.7777777777777778,
              "#fb9f3a"
             ],
             [
              0.8888888888888888,
              "#fdca26"
             ],
             [
              1,
              "#f0f921"
             ]
            ],
            "type": "contour"
           }
          ],
          "contourcarpet": [
           {
            "colorbar": {
             "outlinewidth": 0,
             "ticks": ""
            },
            "type": "contourcarpet"
           }
          ],
          "heatmap": [
           {
            "colorbar": {
             "outlinewidth": 0,
             "ticks": ""
            },
            "colorscale": [
             [
              0,
              "#0d0887"
             ],
             [
              0.1111111111111111,
              "#46039f"
             ],
             [
              0.2222222222222222,
              "#7201a8"
             ],
             [
              0.3333333333333333,
              "#9c179e"
             ],
             [
              0.4444444444444444,
              "#bd3786"
             ],
             [
              0.5555555555555556,
              "#d8576b"
             ],
             [
              0.6666666666666666,
              "#ed7953"
             ],
             [
              0.7777777777777778,
              "#fb9f3a"
             ],
             [
              0.8888888888888888,
              "#fdca26"
             ],
             [
              1,
              "#f0f921"
             ]
            ],
            "type": "heatmap"
           }
          ],
          "heatmapgl": [
           {
            "colorbar": {
             "outlinewidth": 0,
             "ticks": ""
            },
            "colorscale": [
             [
              0,
              "#0d0887"
             ],
             [
              0.1111111111111111,
              "#46039f"
             ],
             [
              0.2222222222222222,
              "#7201a8"
             ],
             [
              0.3333333333333333,
              "#9c179e"
             ],
             [
              0.4444444444444444,
              "#bd3786"
             ],
             [
              0.5555555555555556,
              "#d8576b"
             ],
             [
              0.6666666666666666,
              "#ed7953"
             ],
             [
              0.7777777777777778,
              "#fb9f3a"
             ],
             [
              0.8888888888888888,
              "#fdca26"
             ],
             [
              1,
              "#f0f921"
             ]
            ],
            "type": "heatmapgl"
           }
          ],
          "histogram": [
           {
            "marker": {
             "pattern": {
              "fillmode": "overlay",
              "size": 10,
              "solidity": 0.2
             }
            },
            "type": "histogram"
           }
          ],
          "histogram2d": [
           {
            "colorbar": {
             "outlinewidth": 0,
             "ticks": ""
            },
            "colorscale": [
             [
              0,
              "#0d0887"
             ],
             [
              0.1111111111111111,
              "#46039f"
             ],
             [
              0.2222222222222222,
              "#7201a8"
             ],
             [
              0.3333333333333333,
              "#9c179e"
             ],
             [
              0.4444444444444444,
              "#bd3786"
             ],
             [
              0.5555555555555556,
              "#d8576b"
             ],
             [
              0.6666666666666666,
              "#ed7953"
             ],
             [
              0.7777777777777778,
              "#fb9f3a"
             ],
             [
              0.8888888888888888,
              "#fdca26"
             ],
             [
              1,
              "#f0f921"
             ]
            ],
            "type": "histogram2d"
           }
          ],
          "histogram2dcontour": [
           {
            "colorbar": {
             "outlinewidth": 0,
             "ticks": ""
            },
            "colorscale": [
             [
              0,
              "#0d0887"
             ],
             [
              0.1111111111111111,
              "#46039f"
             ],
             [
              0.2222222222222222,
              "#7201a8"
             ],
             [
              0.3333333333333333,
              "#9c179e"
             ],
             [
              0.4444444444444444,
              "#bd3786"
             ],
             [
              0.5555555555555556,
              "#d8576b"
             ],
             [
              0.6666666666666666,
              "#ed7953"
             ],
             [
              0.7777777777777778,
              "#fb9f3a"
             ],
             [
              0.8888888888888888,
              "#fdca26"
             ],
             [
              1,
              "#f0f921"
             ]
            ],
            "type": "histogram2dcontour"
           }
          ],
          "mesh3d": [
           {
            "colorbar": {
             "outlinewidth": 0,
             "ticks": ""
            },
            "type": "mesh3d"
           }
          ],
          "parcoords": [
           {
            "line": {
             "colorbar": {
              "outlinewidth": 0,
              "ticks": ""
             }
            },
            "type": "parcoords"
           }
          ],
          "pie": [
           {
            "automargin": true,
            "type": "pie"
           }
          ],
          "scatter": [
           {
            "marker": {
             "colorbar": {
              "outlinewidth": 0,
              "ticks": ""
             }
            },
            "type": "scatter"
           }
          ],
          "scatter3d": [
           {
            "line": {
             "colorbar": {
              "outlinewidth": 0,
              "ticks": ""
             }
            },
            "marker": {
             "colorbar": {
              "outlinewidth": 0,
              "ticks": ""
             }
            },
            "type": "scatter3d"
           }
          ],
          "scattercarpet": [
           {
            "marker": {
             "colorbar": {
              "outlinewidth": 0,
              "ticks": ""
             }
            },
            "type": "scattercarpet"
           }
          ],
          "scattergeo": [
           {
            "marker": {
             "colorbar": {
              "outlinewidth": 0,
              "ticks": ""
             }
            },
            "type": "scattergeo"
           }
          ],
          "scattergl": [
           {
            "marker": {
             "colorbar": {
              "outlinewidth": 0,
              "ticks": ""
             }
            },
            "type": "scattergl"
           }
          ],
          "scattermapbox": [
           {
            "marker": {
             "colorbar": {
              "outlinewidth": 0,
              "ticks": ""
             }
            },
            "type": "scattermapbox"
           }
          ],
          "scatterpolar": [
           {
            "marker": {
             "colorbar": {
              "outlinewidth": 0,
              "ticks": ""
             }
            },
            "type": "scatterpolar"
           }
          ],
          "scatterpolargl": [
           {
            "marker": {
             "colorbar": {
              "outlinewidth": 0,
              "ticks": ""
             }
            },
            "type": "scatterpolargl"
           }
          ],
          "scatterternary": [
           {
            "marker": {
             "colorbar": {
              "outlinewidth": 0,
              "ticks": ""
             }
            },
            "type": "scatterternary"
           }
          ],
          "surface": [
           {
            "colorbar": {
             "outlinewidth": 0,
             "ticks": ""
            },
            "colorscale": [
             [
              0,
              "#0d0887"
             ],
             [
              0.1111111111111111,
              "#46039f"
             ],
             [
              0.2222222222222222,
              "#7201a8"
             ],
             [
              0.3333333333333333,
              "#9c179e"
             ],
             [
              0.4444444444444444,
              "#bd3786"
             ],
             [
              0.5555555555555556,
              "#d8576b"
             ],
             [
              0.6666666666666666,
              "#ed7953"
             ],
             [
              0.7777777777777778,
              "#fb9f3a"
             ],
             [
              0.8888888888888888,
              "#fdca26"
             ],
             [
              1,
              "#f0f921"
             ]
            ],
            "type": "surface"
           }
          ],
          "table": [
           {
            "cells": {
             "fill": {
              "color": "#EBF0F8"
             },
             "line": {
              "color": "white"
             }
            },
            "header": {
             "fill": {
              "color": "#C8D4E3"
             },
             "line": {
              "color": "white"
             }
            },
            "type": "table"
           }
          ]
         },
         "layout": {
          "annotationdefaults": {
           "arrowcolor": "#2a3f5f",
           "arrowhead": 0,
           "arrowwidth": 1
          },
          "autotypenumbers": "strict",
          "coloraxis": {
           "colorbar": {
            "outlinewidth": 0,
            "ticks": ""
           }
          },
          "colorscale": {
           "diverging": [
            [
             0,
             "#8e0152"
            ],
            [
             0.1,
             "#c51b7d"
            ],
            [
             0.2,
             "#de77ae"
            ],
            [
             0.3,
             "#f1b6da"
            ],
            [
             0.4,
             "#fde0ef"
            ],
            [
             0.5,
             "#f7f7f7"
            ],
            [
             0.6,
             "#e6f5d0"
            ],
            [
             0.7,
             "#b8e186"
            ],
            [
             0.8,
             "#7fbc41"
            ],
            [
             0.9,
             "#4d9221"
            ],
            [
             1,
             "#276419"
            ]
           ],
           "sequential": [
            [
             0,
             "#0d0887"
            ],
            [
             0.1111111111111111,
             "#46039f"
            ],
            [
             0.2222222222222222,
             "#7201a8"
            ],
            [
             0.3333333333333333,
             "#9c179e"
            ],
            [
             0.4444444444444444,
             "#bd3786"
            ],
            [
             0.5555555555555556,
             "#d8576b"
            ],
            [
             0.6666666666666666,
             "#ed7953"
            ],
            [
             0.7777777777777778,
             "#fb9f3a"
            ],
            [
             0.8888888888888888,
             "#fdca26"
            ],
            [
             1,
             "#f0f921"
            ]
           ],
           "sequentialminus": [
            [
             0,
             "#0d0887"
            ],
            [
             0.1111111111111111,
             "#46039f"
            ],
            [
             0.2222222222222222,
             "#7201a8"
            ],
            [
             0.3333333333333333,
             "#9c179e"
            ],
            [
             0.4444444444444444,
             "#bd3786"
            ],
            [
             0.5555555555555556,
             "#d8576b"
            ],
            [
             0.6666666666666666,
             "#ed7953"
            ],
            [
             0.7777777777777778,
             "#fb9f3a"
            ],
            [
             0.8888888888888888,
             "#fdca26"
            ],
            [
             1,
             "#f0f921"
            ]
           ]
          },
          "colorway": [
           "#636efa",
           "#EF553B",
           "#00cc96",
           "#ab63fa",
           "#FFA15A",
           "#19d3f3",
           "#FF6692",
           "#B6E880",
           "#FF97FF",
           "#FECB52"
          ],
          "font": {
           "color": "#2a3f5f"
          },
          "geo": {
           "bgcolor": "white",
           "lakecolor": "white",
           "landcolor": "#E5ECF6",
           "showlakes": true,
           "showland": true,
           "subunitcolor": "white"
          },
          "hoverlabel": {
           "align": "left"
          },
          "hovermode": "closest",
          "mapbox": {
           "style": "light"
          },
          "paper_bgcolor": "white",
          "plot_bgcolor": "#E5ECF6",
          "polar": {
           "angularaxis": {
            "gridcolor": "white",
            "linecolor": "white",
            "ticks": ""
           },
           "bgcolor": "#E5ECF6",
           "radialaxis": {
            "gridcolor": "white",
            "linecolor": "white",
            "ticks": ""
           }
          },
          "scene": {
           "xaxis": {
            "backgroundcolor": "#E5ECF6",
            "gridcolor": "white",
            "gridwidth": 2,
            "linecolor": "white",
            "showbackground": true,
            "ticks": "",
            "zerolinecolor": "white"
           },
           "yaxis": {
            "backgroundcolor": "#E5ECF6",
            "gridcolor": "white",
            "gridwidth": 2,
            "linecolor": "white",
            "showbackground": true,
            "ticks": "",
            "zerolinecolor": "white"
           },
           "zaxis": {
            "backgroundcolor": "#E5ECF6",
            "gridcolor": "white",
            "gridwidth": 2,
            "linecolor": "white",
            "showbackground": true,
            "ticks": "",
            "zerolinecolor": "white"
           }
          },
          "shapedefaults": {
           "line": {
            "color": "#2a3f5f"
           }
          },
          "ternary": {
           "aaxis": {
            "gridcolor": "white",
            "linecolor": "white",
            "ticks": ""
           },
           "baxis": {
            "gridcolor": "white",
            "linecolor": "white",
            "ticks": ""
           },
           "bgcolor": "#E5ECF6",
           "caxis": {
            "gridcolor": "white",
            "linecolor": "white",
            "ticks": ""
           }
          },
          "title": {
           "x": 0.05
          },
          "xaxis": {
           "automargin": true,
           "gridcolor": "white",
           "linecolor": "white",
           "ticks": "",
           "title": {
            "standoff": 15
           },
           "zerolinecolor": "white",
           "zerolinewidth": 2
          },
          "yaxis": {
           "automargin": true,
           "gridcolor": "white",
           "linecolor": "white",
           "ticks": "",
           "title": {
            "standoff": 15
           },
           "zerolinecolor": "white",
           "zerolinewidth": 2
          }
         }
        },
        "title": {
         "text": "Height vs Age of People"
        },
        "xaxis": {
         "anchor": "y",
         "domain": [
          0,
          1
         ],
         "title": {
          "text": "Age (years)"
         }
        },
        "yaxis": {
         "anchor": "x",
         "domain": [
          0,
          1
         ],
         "title": {
          "text": "Height (inches)"
         }
        }
       }
      }
     },
     "metadata": {},
     "output_type": "display_data"
    }
   ],
   "source": [
    "def make_picture(training_data_filename, model, new_inp_np_arr, output_file):\n",
    "    data = pd.read_pickle(training_data_filename)\n",
    "    ages = data['Age']\n",
    "    data = data[ages > 0]\n",
    "    ages = data['Age']\n",
    "    heights =  data['Height']\n",
    "    x_new = np.array(list(range(19))).reshape(19,1)\n",
    "    preds = model.predict(x_new)\n",
    "    fig = px.scatter(x=ages,y=heights,title=\"Height vs Age of People\",labels={'x':'Age (years)','y':'Height (inches)'})\n",
    "\n",
    "    fig.add_trace(go.Scatter(x=x_new.reshape(19), y=preds, mode='lines', name='Model'))\n",
    "\n",
    "    new_preds = model.predict(new_inp_np_arr)\n",
    "\n",
    "    fig.add_trace(go.Scatter(x=new_inp_np_arr.reshape(len(new_inp_np_arr)),y=new_preds,name = 'New Outputs', mode='markers',marker= dict(color='purple', size=20, line=dict(color='purple',width=2))))\n",
    "\n",
    "    fig.write_image(output_file, width = 800)\n",
    "\n",
    "    fig.show()\n",
    "\n",
    "make_picture('AgesAndHeights.pkl', model_in, floats_string_to_np_arr('1, 2,17'), 'x.svg')"
   ]
  },
  {
   "cell_type": "code",
   "execution_count": 37,
   "id": "c7aa382f",
   "metadata": {},
   "outputs": [
    {
     "data": {
      "text/plain": [
       "array([[ 1.],\n",
       "       [ 2.],\n",
       "       [17.]])"
      ]
     },
     "execution_count": 37,
     "metadata": {},
     "output_type": "execute_result"
    }
   ],
   "source": [
    "def floats_string_to_np_arr(floats_str):\n",
    "    def is_float(s):\n",
    "        try:\n",
    "            float(s)\n",
    "            return True\n",
    "        except:\n",
    "            return False\n",
    "    floats = np.array([float(x)  for x in floats_str.split(',') if is_float(x)])\n",
    "    return floats.reshape(len(floats),1)\n",
    "\n",
    "floats_string_to_np_arr('1, 2,17')"
   ]
  }
 ],
 "metadata": {
  "kernelspec": {
   "display_name": "Python 3 (ipykernel)",
   "language": "python",
   "name": "python3"
  },
  "language_info": {
   "codemirror_mode": {
    "name": "ipython",
    "version": 3
   },
   "file_extension": ".py",
   "mimetype": "text/x-python",
   "name": "python",
   "nbconvert_exporter": "python",
   "pygments_lexer": "ipython3",
   "version": "3.9.0"
  }
 },
 "nbformat": 4,
 "nbformat_minor": 5
}
